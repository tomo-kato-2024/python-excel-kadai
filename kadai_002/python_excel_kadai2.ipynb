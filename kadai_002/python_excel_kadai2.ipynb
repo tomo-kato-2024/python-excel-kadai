{
  "nbformat": 4,
  "nbformat_minor": 0,
  "metadata": {
    "colab": {
      "provenance": []
    },
    "kernelspec": {
      "name": "python3",
      "display_name": "Python 3"
    },
    "language_info": {
      "name": "python"
    }
  },
  "cells": [
    {
      "cell_type": "code",
      "source": [
        "import pandas as pd\n",
        "\n",
        "#データを定義して変数dfに格納\n",
        "df = pd.DataFrame({\n",
        "    '日付':['2023-05-17','2023-05-18','2023-05-19','2023-05-20','2023-05-21'],\n",
        "    '社員名':['山田','佐藤','鈴木','田中','高橋'],\n",
        "    '売上':[100,200,150,300,250],\n",
        "    '部門':['メーカー','代理店','メーカー','商社','代理店']\n",
        "})\n",
        "\n",
        "#Excelファイルを作成\n",
        "writer = pd.ExcelWriter('売上データ.xlsx')\n",
        "\n",
        "#ファイルに書き込み\n",
        "df.to_excel(writer, sheet_name='Sheet1', index=False)\n",
        "\n",
        "#ファイルを閉じる\n",
        "writer.close()\n",
        "\n",
        "#売上データ.xlsxファイルを読み込む\n",
        "df_1 = pd.read_excel('売上データ.xlsx')\n",
        "\n",
        "#「売上」列の平均値を計算してmeanに代入する\n",
        "mean = df_1['売上'].mean().astype(int)\n",
        "#print(df_1.dtypes)\n",
        "\n",
        "#「平均売上」を作成してmeanを入力する\n",
        "df_1['平均売上'] = mean.astype(int)\n",
        "\n",
        "#振り分け条件\n",
        "def prioritize(rank):\n",
        "  result = '';\n",
        "  if rank >= (mean +50):\n",
        "    result = 'A';\n",
        "  elif rank >= mean:\n",
        "   result = 'B';\n",
        "  else:\n",
        "    result = 'C';\n",
        "  return result\n",
        "\n",
        "#rankに「売上」を代入して「業績ランク」を作成\n",
        "df_1['業績ランク'] = df_1['売上'].apply(prioritize)\n",
        "\n",
        "#新たに業務.xlsxファイルを作成\n",
        "writer_1 = pd.ExcelWriter('業績.xlsx')\n",
        "\n",
        "#ファイルに書き込み\n",
        "df_1.to_excel(writer_1, sheet_name='Sheet1', index=False)\n",
        "\n",
        "#ファイルを閉じる\n",
        "writer_1.close()\n",
        "\n",
        "print(\"----df---\")\n",
        "print(df)\n",
        "print(\"----df_1---\")\n",
        "print(df_1)"
      ],
      "metadata": {
        "colab": {
          "base_uri": "https://localhost:8080/"
        },
        "id": "TD_2DTNGQZuD",
        "outputId": "f2568fed-ba0a-4228-f385-d62fe5cc4e4b"
      },
      "execution_count": 16,
      "outputs": [
        {
          "output_type": "stream",
          "name": "stdout",
          "text": [
            "----df---\n",
            "           日付 社員名   売上    部門\n",
            "0  2023-05-17  山田  100  メーカー\n",
            "1  2023-05-18  佐藤  200   代理店\n",
            "2  2023-05-19  鈴木  150  メーカー\n",
            "3  2023-05-20  田中  300    商社\n",
            "4  2023-05-21  高橋  250   代理店\n",
            "----df_1---\n",
            "           日付 社員名   売上    部門  平均売上 業績ランク\n",
            "0  2023-05-17  山田  100  メーカー   200     C\n",
            "1  2023-05-18  佐藤  200   代理店   200     B\n",
            "2  2023-05-19  鈴木  150  メーカー   200     C\n",
            "3  2023-05-20  田中  300    商社   200     A\n",
            "4  2023-05-21  高橋  250   代理店   200     A\n"
          ]
        }
      ]
    },
    {
      "cell_type": "code",
      "source": [],
      "metadata": {
        "id": "Jo0_wYU9Jt8q"
      },
      "execution_count": null,
      "outputs": []
    }
  ]
}