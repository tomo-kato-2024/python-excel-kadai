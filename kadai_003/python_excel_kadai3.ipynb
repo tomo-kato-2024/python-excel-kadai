{
  "nbformat": 4,
  "nbformat_minor": 0,
  "metadata": {
    "colab": {
      "provenance": []
    },
    "kernelspec": {
      "name": "python3",
      "display_name": "Python 3"
    },
    "language_info": {
      "name": "python"
    }
  },
  "cells": [
    {
      "cell_type": "code",
      "source": [
        "##pandasでデータの加工を実施##\n",
        "\n",
        "import pandas as pd\n",
        "\n",
        "#エクセルファイルの読み込み\n",
        "df1 = pd.read_excel('2022_年間売上表.xlsx', sheet_name='Sheet1')\n",
        "df2 = pd.read_excel('2023_年間売上表.xlsx', sheet_name='Sheet1')\n",
        "\n",
        "#読み込んだデータを縦に統合\n",
        "df = pd.concat([df1, df2], axis=0)\n",
        "\n",
        "#商品をグループ化して合計を出す\n",
        "grouped = df.groupby(['商品', '売上年'])['金額（千円）'].sum().reset_index()\n",
        "\n",
        "#エクセルファイルに書き込み（インデックスは不要）\n",
        "grouped.to_excel('売上集計表.xlsx',sheet_name='Sheet1',index=False)\n",
        "\n",
        "\n",
        "##エクセルデータをopenpyxlで加工##\n",
        "\n",
        "import openpyxl\n",
        "from openpyxl.styles import PatternFill\n",
        "\n",
        "#エクセルファイルを読み込み\n",
        "workbook = openpyxl.load_workbook('売上集計表.xlsx')\n",
        "ws = workbook.active\n",
        "\n",
        "#ヘッダをグレーで塗りつぶす\n",
        "gray_fill = PatternFill(fill_type=\"solid\", fgColor=\"F2F2F2\")\n",
        "header_row = ws[1]\n",
        "for cell in header_row:\n",
        "    cell.fill = gray_fill\n",
        "\n",
        "#新規ファイルで保存\n",
        "workbook.save('売上集計表.xlsx')"
      ],
      "metadata": {
        "id": "gZMCrV5NnjCB"
      },
      "execution_count": 2,
      "outputs": []
    }
  ]
}