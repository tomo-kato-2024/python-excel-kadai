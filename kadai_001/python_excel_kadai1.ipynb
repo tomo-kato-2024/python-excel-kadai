{
  "nbformat": 4,
  "nbformat_minor": 0,
  "metadata": {
    "colab": {
      "provenance": []
    },
    "kernelspec": {
      "name": "python3",
      "display_name": "Python 3"
    },
    "language_info": {
      "name": "python"
    }
  },
  "cells": [
    {
      "cell_type": "code",
      "source": [
        "#モジュールのインストール\n",
        "import openpyxl\n",
        "import datetime\n",
        "from openpyxl.styles import Font,Alignment\n",
        "\n",
        "#現在時刻を取得し成形\n",
        "now = datetime.datetime.now()\n",
        "created_date = now.strftime(\"%Y%m%d\")\n",
        "#print(created_date)\n",
        "\n",
        "#請求書番号\n",
        "invoice_number = 1\n",
        "\n",
        "#請求書の宛名：固定値\n",
        "Company_name = \"株式会社ABC\"\n",
        "Address = \"〒101-0022 東京都千代田区神田練塀町300\"\n",
        "Phone_number = \"TEL:03-1234-5678 FAX:03-1234-5678\"\n",
        "Person_name = \"担当者名:鈴木一郎 様\"\n",
        "\n",
        "#商品データ\n",
        "items = [\n",
        "    (\"商品A\",2,10000),(\"商品B\",1,15000)\n",
        "    ]"
      ],
      "metadata": {
        "id": "M8JJnExKJWn3"
      },
      "execution_count": null,
      "outputs": []
    },
    {
      "cell_type": "code",
      "source": [
        "#新規ワークブックを作成して変数wsに格納\n",
        "workbook = openpyxl.Workbook()\n",
        "ws = workbook.active\n",
        "\n",
        "#エクセルにデータを記載する（固定値）\n",
        "ws['B2'] = \"請求書\"\n",
        "ws['F4'] = \"No.\"\n",
        "ws['G4'] = f'{invoice_number:04d}'\n",
        "ws['F5'] = \"日付\"\n",
        "#ws.merge_cells('G5:H5')\n",
        "ws['G5'].number_format = 'yyyy/mm/dd'\n",
        "ws['G5'] = now\n",
        "ws.merge_cells('B4:C4')\n",
        "ws['B4'] = Company_name\n",
        "ws.merge_cells('B5:E5')\n",
        "ws['B5'] = Address\n",
        "ws.merge_cells('B6:E6')\n",
        "ws['B6'] = Phone_number\n",
        "ws.merge_cells('B7:E7')\n",
        "ws['B7'] = Person_name\n",
        "ws['B10'] = \"商品名\"\n",
        "ws['C10'] = \"数量\"\n",
        "ws['D10'] = \"単価\"\n",
        "ws['E10'] = \"金額\""
      ],
      "metadata": {
        "id": "lsPk8ae7J15f"
      },
      "execution_count": null,
      "outputs": []
    },
    {
      "cell_type": "code",
      "source": [
        "# 明細行を追加(ChatGPTによるお手伝い)\n",
        "row_start = 10\n",
        "total_amount = 0  # 合計金額\n",
        "\n",
        "# enumerateを使って商品データをループ\n",
        "for index, (product_name, quantity, unit_price) in enumerate(items):\n",
        "    amount = quantity * unit_price  # 金額計算\n",
        "    total_amount += amount  # 合計金額に加算\n",
        "    # 各行にデータを記載\n",
        "    current_row = row_start + index\n",
        "    ws[f'B{current_row}'] = product_name\n",
        "    ws[f'C{current_row}'] = quantity\n",
        "    ws[f'D{current_row}'] = unit_price\n",
        "    ws[f'E{current_row}'] = amount\n",
        "# 合計金額を記載\n",
        "sum_row = row_start + len(items)  # 合計金額の行\n",
        "ws[f'D{sum_row}'] = \"合計\"\n",
        "ws[f'E{sum_row}'] = total_amount\n",
        "\n",
        "# 消費税と税込み合計を記載\n",
        "tax_row = sum_row + 2  # 消費税の行\n",
        "tax = int(total_amount * 0.1)  # 消費税10%\n",
        "total_with_tax = total_amount + tax\n",
        "\n",
        "ws[f'B{tax_row}'] = \"合計\"\n",
        "ws[f'E{tax_row}'] =total_amount\n",
        "ws[f'B{tax_row + 1}'] = \"消費税\"\n",
        "ws[f'E{tax_row + 1}'] = tax\n",
        "ws[f'B{tax_row + 2}'] = \"税込合計\"\n",
        "ws[f'E{tax_row + 2}'] = total_with_tax"
      ],
      "metadata": {
        "id": "shlBsDSI0H0V"
      },
      "execution_count": null,
      "outputs": []
    },
    {
      "cell_type": "code",
      "source": [
        "#エクセルの書式設定\n",
        "for row in ws.iter_rows():\n",
        "  for cell in row:\n",
        "    cell.alignment = Alignment(shrink_to_fit=True)\n",
        "    cell.font = Font(size=10)\n",
        "\n"
      ],
      "metadata": {
        "id": "SFqebCictMnf"
      },
      "execution_count": null,
      "outputs": []
    },
    {
      "cell_type": "code",
      "source": [
        "#エクセルファイル出力\n",
        "workbook .save('invoice.xlsx')"
      ],
      "metadata": {
        "id": "fm02VWqfkKkb"
      },
      "execution_count": null,
      "outputs": []
    },
    {
      "cell_type": "code",
      "source": [],
      "metadata": {
        "id": "aJ3mwYGQWYxv"
      },
      "execution_count": null,
      "outputs": []
    }
  ]
}